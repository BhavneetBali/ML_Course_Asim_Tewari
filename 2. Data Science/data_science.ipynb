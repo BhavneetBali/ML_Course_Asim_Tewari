{
 "cells": [
  {
   "cell_type": "markdown",
   "id": "a709227f-7efb-4a91-a47e-aaaebe0d835a",
   "metadata": {
    "editable": true,
    "slideshow": {
     "slide_type": "slide"
    },
    "tags": []
   },
   "source": [
    "#  Data Science"
   ]
  },
  {
   "cell_type": "markdown",
   "id": "6ed8680c-61e4-44c7-9f02-5eed426042cf",
   "metadata": {
    "editable": true,
    "slideshow": {
     "slide_type": "slide"
    },
    "tags": []
   },
   "source": [
    "## Problem Framing"
   ]
  },
  {
   "cell_type": "markdown",
   "id": "6658374f-39ed-4b19-916b-e809abe8b521",
   "metadata": {
    "editable": true,
    "slideshow": {
     "slide_type": "fragment"
    },
    "tags": []
   },
   "source": [
    "Let's say we have an e-commerce company, and they want to increase customer engagement on their website by recommending products based on user behavior.\n",
    "\n",
    "Formulate the problem as predicting product recommendations for users based on their past behavior on the website."
   ]
  },
  {
   "cell_type": "markdown",
   "id": "80e75baa-7515-4207-8bc8-6e8042655760",
   "metadata": {
    "editable": true,
    "slideshow": {
     "slide_type": "slide"
    },
    "tags": []
   },
   "source": [
    "## Data Aquisition"
   ]
  },
  {
   "cell_type": "markdown",
   "id": "0bfe5a17-bd4f-4ee0-bec0-9254b9d3ef81",
   "metadata": {
    "editable": true,
    "slideshow": {
     "slide_type": "subslide"
    },
    "tags": []
   },
   "source": [
    "### Identify Data Sources\n",
    "- User data from the website (user_id, demographics)\n",
    "- Product data (product_id, category)\n",
    "- User behavior data (user_id, product_id, timestamp, interaction_type)pe)"
   ]
  },
  {
   "cell_type": "markdown",
   "id": "ecbebcc7-849b-481f-aaef-f94ffa447fc3",
   "metadata": {
    "editable": true,
    "slideshow": {
     "slide_type": "subslide"
    },
    "tags": []
   },
   "source": [
    "### Collect Data\n",
    "\n",
    "For simplicity, let's create the dataset"
   ]
  },
  {
   "cell_type": "code",
   "execution_count": 1,
   "id": "ce4fceaf-9898-4787-99d3-9ee9f87ffe41",
   "metadata": {
    "editable": true,
    "slideshow": {
     "slide_type": "skip"
    },
    "tags": []
   },
   "outputs": [],
   "source": [
    "import warnings\n",
    "warnings.filterwarnings('ignore')"
   ]
  },
  {
   "cell_type": "code",
   "execution_count": 2,
   "id": "0b0d2a0a-5f54-46a3-a6c7-80b331d73709",
   "metadata": {
    "editable": true,
    "slideshow": {
     "slide_type": "fragment"
    },
    "tags": []
   },
   "outputs": [
    {
     "name": "stdout",
     "output_type": "stream",
     "text": [
      "Dataset Created Succesfully\n"
     ]
    }
   ],
   "source": [
    "import pandas as pd\n",
    "import numpy as np\n",
    "import matplotlib.pyplot as plt\n",
    "import seaborn as sns\n",
    "from datetime import datetime, timedelta\n",
    "\n",
    "# Generate a larger dataset\n",
    "\n",
    "# User data\n",
    "users = pd.DataFrame({\n",
    "    'user_id': range(1, 1001),\n",
    "    'age': np.random.randint(18, 60, size=1000),\n",
    "    'gender': np.random.choice(['M', 'F'], size=1000)\n",
    "})\n",
    "\n",
    "# Product data\n",
    "products = pd.DataFrame({\n",
    "    'product_id': range(101, 201),\n",
    "    'category': np.random.choice(['Electronics', 'Clothing', 'Books'], size=100)\n",
    "})\n",
    "\n",
    "# User behavior data\n",
    "np.random.seed(42)\n",
    "user_behavior = pd.DataFrame({\n",
    "    'user_id': np.random.choice(range(1, 1001), size=5000),\n",
    "    'product_id': np.random.choice(range(101, 201), size=5000),\n",
    "    'timestamp': [datetime.now() - timedelta(days=i) for i in range(5000)],\n",
    "    'interaction_type': np.random.choice(['view', 'purchase'], size=5000)\n",
    "})\n",
    "\n",
    "print(\"Dataset Created Succesfully\")"
   ]
  },
  {
   "cell_type": "markdown",
   "id": "9c7f2647-4ebd-458a-8052-a14dc25dce80",
   "metadata": {
    "editable": true,
    "slideshow": {
     "slide_type": "slide"
    },
    "tags": []
   },
   "source": [
    "## Exploratory Data Analysis\n",
    "\n",
    "Explore the data using descriptive statistics and visualizations."
   ]
  },
  {
   "cell_type": "code",
   "execution_count": 3,
   "id": "56d6ab99-802b-43a5-9a4e-d85f82e13227",
   "metadata": {
    "editable": true,
    "slideshow": {
     "slide_type": "subslide"
    },
    "tags": []
   },
   "outputs": [
    {
     "name": "stdout",
     "output_type": "stream",
     "text": [
      "   user_id  age gender\n",
      "0        1   56      F\n",
      "1        2   59      F\n",
      "2        3   38      F\n",
      "3        4   23      M\n",
      "4        5   41      M\n",
      "   product_id     category\n",
      "0         101        Books\n",
      "1         102  Electronics\n",
      "2         103     Clothing\n",
      "3         104        Books\n",
      "4         105  Electronics\n",
      "   user_id  product_id                  timestamp interaction_type\n",
      "0      103         178 2024-01-25 16:52:08.305424             view\n",
      "1      436         155 2024-01-24 16:52:08.305424             view\n",
      "2      861         127 2024-01-23 16:52:08.305424         purchase\n",
      "3      271         193 2024-01-22 16:52:08.305424             view\n",
      "4      107         153 2024-01-21 16:52:08.305424         purchase\n"
     ]
    }
   ],
   "source": [
    "# Explore the generated datasets\n",
    "print(users.head())\n",
    "print(products.head())\n",
    "print(user_behavior.head())"
   ]
  },
  {
   "cell_type": "code",
   "execution_count": 4,
   "id": "ddf52242-a8b7-4da4-bc6f-fe69532b85d1",
   "metadata": {
    "editable": true,
    "slideshow": {
     "slide_type": "subslide"
    },
    "tags": []
   },
   "outputs": [
    {
     "name": "stdout",
     "output_type": "stream",
     "text": [
      "\n",
      "User Data:\n",
      "           user_id          age\n",
      "count  1000.000000  1000.000000\n",
      "mean    500.500000    38.192000\n",
      "std     288.819436    12.257952\n",
      "min       1.000000    18.000000\n",
      "25%     250.750000    28.000000\n",
      "50%     500.500000    38.000000\n",
      "75%     750.250000    48.000000\n",
      "max    1000.000000    59.000000\n",
      "gender\n",
      "F    507\n",
      "M    493\n",
      "Name: count, dtype: int64\n"
     ]
    }
   ],
   "source": [
    "# Explore user data\n",
    "print(\"\\nUser Data:\")\n",
    "print(users.describe())\n",
    "print(users['gender'].value_counts())"
   ]
  },
  {
   "cell_type": "code",
   "execution_count": 5,
   "id": "3c7932b3-0cad-402e-9306-af64038d9e4f",
   "metadata": {
    "editable": true,
    "slideshow": {
     "slide_type": "subslide"
    },
    "tags": []
   },
   "outputs": [
    {
     "name": "stdout",
     "output_type": "stream",
     "text": [
      "\n",
      "Product Data:\n",
      "       product_id\n",
      "count  100.000000\n",
      "mean   150.500000\n",
      "std     29.011492\n",
      "min    101.000000\n",
      "25%    125.750000\n",
      "50%    150.500000\n",
      "75%    175.250000\n",
      "max    200.000000\n",
      "category\n",
      "Electronics    39\n",
      "Clothing       32\n",
      "Books          29\n",
      "Name: count, dtype: int64\n"
     ]
    }
   ],
   "source": [
    "# Explore product data\n",
    "print(\"\\nProduct Data:\")\n",
    "print(products.describe())\n",
    "print(products['category'].value_counts())"
   ]
  },
  {
   "cell_type": "code",
   "execution_count": 6,
   "id": "6ab629ad-342d-412d-ace0-44864d1936bb",
   "metadata": {
    "editable": true,
    "slideshow": {
     "slide_type": "subslide"
    },
    "tags": []
   },
   "outputs": [
    {
     "name": "stdout",
     "output_type": "stream",
     "text": [
      "\n",
      "User Behavior Data:\n",
      "           user_id   product_id                      timestamp\n",
      "count  5000.000000  5000.000000                           5000\n",
      "mean    506.701200   151.009400  2017-03-23 04:52:08.306048512\n",
      "min       1.000000   101.000000     2010-05-19 16:52:08.306405\n",
      "25%     254.000000   126.000000  2013-10-20 10:52:08.306405120\n",
      "50%     511.000000   152.000000  2017-03-23 04:52:08.306405120\n",
      "75%     762.000000   176.000000  2020-08-23 22:52:08.305423872\n",
      "max    1000.000000   200.000000     2024-01-25 16:52:08.305424\n",
      "std     290.836902    28.618832                            NaN\n",
      "interaction_type\n",
      "view        2545\n",
      "purchase    2455\n",
      "Name: count, dtype: int64\n"
     ]
    }
   ],
   "source": [
    "# Explore user behavior data\n",
    "print(\"\\nUser Behavior Data:\")\n",
    "print(user_behavior.describe())\n",
    "print(user_behavior['interaction_type'].value_counts())"
   ]
  },
  {
   "cell_type": "markdown",
   "id": "719a1361-d3fe-4406-9df5-c3d28a1ec1f6",
   "metadata": {
    "editable": true,
    "slideshow": {
     "slide_type": "slide"
    },
    "tags": []
   },
   "source": [
    "### Visualise Data"
   ]
  },
  {
   "cell_type": "code",
   "execution_count": 7,
   "id": "2bec3dcd-a4d9-4869-8f8d-76df126f2562",
   "metadata": {
    "editable": true,
    "slideshow": {
     "slide_type": "subslide"
    },
    "tags": []
   },
   "outputs": [
    {
     "data": {
      "image/png": "[encoded data removed]",
      "text/plain": [
       "<Figure size 1200x600 with 1 Axes>"
      ]
     },
     "metadata": {},
     "output_type": "display_data"
    }
   ],
   "source": [
    "# User age distribution\n",
    "plt.figure(figsize=(12, 6))\n",
    "sns.histplot(users['age'], bins=30, kde=True, color='skyblue')\n",
    "plt.title('User Age Distribution')\n",
    "plt.xlabel('Age')\n",
    "plt.ylabel('Count')\n",
    "plt.show()"
   ]
  },
  {
   "cell_type": "code",
   "execution_count": 8,
   "id": "b092738c-a810-4b62-ad3e-f7dc0e52beb4",
   "metadata": {
    "editable": true,
    "slideshow": {
     "slide_type": "subslide"
    },
    "tags": []
   },
   "outputs": [
    {
     "data": {
      "image/png": "[encoded data removed]",
      "text/plain": [
       "<Figure size 1200x600 with 1 Axes>"
      ]
     },
     "metadata": {},
     "output_type": "display_data"
    }
   ],
   "source": [
    "# Visualize product category distribution\n",
    "plt.figure(figsize=(12, 6))\n",
    "sns.countplot(x='category', data=products, palette='viridis')\n",
    "plt.title('Product Category Distribution')\n",
    "plt.xlabel('Category')\n",
    "plt.ylabel('Count')\n",
    "plt.show()"
   ]
  },
  {
   "cell_type": "code",
   "execution_count": 9,
   "id": "bf8240f9-7a75-424b-8bfe-962f1cb50ab5",
   "metadata": {
    "editable": true,
    "slideshow": {
     "slide_type": "subslide"
    },
    "tags": []
   },
   "outputs": [
    {
     "data": {
      "image/png": "[encoded data removed]",
      "text/plain": [
       "<Figure size 1200x600 with 1 Axes>"
      ]
     },
     "metadata": {},
     "output_type": "display_data"
    }
   ],
   "source": [
    "# Visualize user interactions over time\n",
    "user_behavior['date'] = user_behavior['timestamp'].dt.date\n",
    "daily_interactions = user_behavior.groupby('date').size()\n",
    "\n",
    "plt.figure(figsize=(12, 6))\n",
    "daily_interactions.plot(kind='line', marker='o', linestyle='-', color='orange')\n",
    "plt.title('Daily User Interactions Over Time')\n",
    "plt.xlabel('Date')\n",
    "plt.ylabel('Interactions Count')\n",
    "plt.xticks(rotation=45)\n",
    "plt.show()"
   ]
  },
  {
   "cell_type": "markdown",
   "id": "ae41cd9b-06c0-4743-9ea3-5948bee42eaf",
   "metadata": {
    "editable": true,
    "slideshow": {
     "slide_type": "slide"
    },
    "tags": []
   },
   "source": [
    "## Data Wrangling"
   ]
  },
  {
   "cell_type": "markdown",
   "id": "15400bd9-be8f-491e-bbca-ec22e6539e49",
   "metadata": {
    "editable": true,
    "slideshow": {
     "slide_type": "fragment"
    },
    "tags": []
   },
   "source": [
    "Cleaning and preprocessing are crucial to ensure that the data is in a usable format for modeling. Handling missing values, merging relevant datasets, converting timestamps, and encoding categorical variables prepare the data for analysis and model training."
   ]
  },
  {
   "cell_type": "code",
   "execution_count": 10,
   "id": "3f32184b-4e7c-4bf1-8248-0fe2edb1d825",
   "metadata": {
    "editable": true,
    "slideshow": {
     "slide_type": "subslide"
    },
    "tags": []
   },
   "outputs": [
    {
     "name": "stdout",
     "output_type": "stream",
     "text": [
      "user_id    0\n",
      "age        0\n",
      "gender     0\n",
      "dtype: int64\n",
      "product_id    0\n",
      "category      0\n",
      "dtype: int64\n",
      "user_id             0\n",
      "product_id          0\n",
      "timestamp           0\n",
      "interaction_type    0\n",
      "date                0\n",
      "dtype: int64\n"
     ]
    }
   ],
   "source": [
    "# Check for missing values\n",
    "print(users.isnull().sum())\n",
    "print(products.isnull().sum())\n",
    "print(user_behavior.isnull().sum())"
   ]
  },
  {
   "cell_type": "code",
   "execution_count": 11,
   "id": "9a598a09-1bf3-4e21-8ad5-7aca30a9d9dc",
   "metadata": {
    "editable": true,
    "slideshow": {
     "slide_type": "subslide"
    },
    "tags": []
   },
   "outputs": [
    {
     "data": {
      "text/html": [
       "<div>\n",
       "<style scoped>\n",
       "    .dataframe tbody tr th:only-of-type {\n",
       "        vertical-align: middle;\n",
       "    }\n",
       "\n",
       "    .dataframe tbody tr th {\n",
       "        vertical-align: top;\n",
       "    }\n",
       "\n",
       "    .dataframe thead th {\n",
       "        text-align: right;\n",
       "    }\n",
       "</style>\n",
       "<table border=\"1\" class=\"dataframe\">\n",
       "  <thead>\n",
       "    <tr style=\"text-align: right;\">\n",
       "      <th></th>\n",
       "      <th>user_id</th>\n",
       "      <th>product_id</th>\n",
       "      <th>timestamp</th>\n",
       "      <th>date</th>\n",
       "      <th>age</th>\n",
       "      <th>day_of_week</th>\n",
       "      <th>gender_F</th>\n",
       "      <th>gender_M</th>\n",
       "      <th>category_Books</th>\n",
       "      <th>category_Clothing</th>\n",
       "      <th>category_Electronics</th>\n",
       "      <th>interaction_type_purchase</th>\n",
       "      <th>interaction_type_view</th>\n",
       "    </tr>\n",
       "  </thead>\n",
       "  <tbody>\n",
       "    <tr>\n",
       "      <th>0</th>\n",
       "      <td>103</td>\n",
       "      <td>178</td>\n",
       "      <td>2024-01-25 16:52:08.305424</td>\n",
       "      <td>2024-01-25</td>\n",
       "      <td>20</td>\n",
       "      <td>Thursday</td>\n",
       "      <td>True</td>\n",
       "      <td>False</td>\n",
       "      <td>True</td>\n",
       "      <td>False</td>\n",
       "      <td>False</td>\n",
       "      <td>False</td>\n",
       "      <td>True</td>\n",
       "    </tr>\n",
       "    <tr>\n",
       "      <th>1</th>\n",
       "      <td>436</td>\n",
       "      <td>155</td>\n",
       "      <td>2024-01-24 16:52:08.305424</td>\n",
       "      <td>2024-01-24</td>\n",
       "      <td>21</td>\n",
       "      <td>Wednesday</td>\n",
       "      <td>True</td>\n",
       "      <td>False</td>\n",
       "      <td>False</td>\n",
       "      <td>False</td>\n",
       "      <td>True</td>\n",
       "      <td>False</td>\n",
       "      <td>True</td>\n",
       "    </tr>\n",
       "    <tr>\n",
       "      <th>2</th>\n",
       "      <td>861</td>\n",
       "      <td>127</td>\n",
       "      <td>2024-01-23 16:52:08.305424</td>\n",
       "      <td>2024-01-23</td>\n",
       "      <td>53</td>\n",
       "      <td>Tuesday</td>\n",
       "      <td>True</td>\n",
       "      <td>False</td>\n",
       "      <td>False</td>\n",
       "      <td>True</td>\n",
       "      <td>False</td>\n",
       "      <td>True</td>\n",
       "      <td>False</td>\n",
       "    </tr>\n",
       "    <tr>\n",
       "      <th>3</th>\n",
       "      <td>271</td>\n",
       "      <td>193</td>\n",
       "      <td>2024-01-22 16:52:08.305424</td>\n",
       "      <td>2024-01-22</td>\n",
       "      <td>32</td>\n",
       "      <td>Monday</td>\n",
       "      <td>True</td>\n",
       "      <td>False</td>\n",
       "      <td>True</td>\n",
       "      <td>False</td>\n",
       "      <td>False</td>\n",
       "      <td>False</td>\n",
       "      <td>True</td>\n",
       "    </tr>\n",
       "    <tr>\n",
       "      <th>4</th>\n",
       "      <td>107</td>\n",
       "      <td>153</td>\n",
       "      <td>2024-01-21 16:52:08.305424</td>\n",
       "      <td>2024-01-21</td>\n",
       "      <td>35</td>\n",
       "      <td>Sunday</td>\n",
       "      <td>True</td>\n",
       "      <td>False</td>\n",
       "      <td>True</td>\n",
       "      <td>False</td>\n",
       "      <td>False</td>\n",
       "      <td>True</td>\n",
       "      <td>False</td>\n",
       "    </tr>\n",
       "  </tbody>\n",
       "</table>\n",
       "</div>"
      ],
      "text/plain": [
       "   user_id  product_id                  timestamp        date  age  \\\n",
       "0      103         178 2024-01-25 16:52:08.305424  2024-01-25   20   \n",
       "1      436         155 2024-01-24 16:52:08.305424  2024-01-24   21   \n",
       "2      861         127 2024-01-23 16:52:08.305424  2024-01-23   53   \n",
       "3      271         193 2024-01-22 16:52:08.305424  2024-01-22   32   \n",
       "4      107         153 2024-01-21 16:52:08.305424  2024-01-21   35   \n",
       "\n",
       "  day_of_week  gender_F  gender_M  category_Books  category_Clothing  \\\n",
       "0    Thursday      True     False            True              False   \n",
       "1   Wednesday      True     False           False              False   \n",
       "2     Tuesday      True     False           False               True   \n",
       "3      Monday      True     False            True              False   \n",
       "4      Sunday      True     False            True              False   \n",
       "\n",
       "   category_Electronics  interaction_type_purchase  interaction_type_view  \n",
       "0                 False                      False                   True  \n",
       "1                  True                      False                   True  \n",
       "2                 False                       True                  False  \n",
       "3                 False                      False                   True  \n",
       "4                 False                       True                  False  "
      ]
     },
     "execution_count": 11,
     "metadata": {},
     "output_type": "execute_result"
    }
   ],
   "source": [
    "# Merge datasets\n",
    "df = pd.merge(user_behavior, users, on='user_id', how='left')\n",
    "df = pd.merge(df, products, on='product_id', how='left')\n",
    "\n",
    "# Convert timestamp to features\n",
    "df['day_of_week'] = df['timestamp'].dt.day_name()\n",
    "\n",
    "# Encode categorical variables\n",
    "df = pd.get_dummies(df, columns=['gender', 'category', 'interaction_type'])\n",
    "\n",
    "df.head()"
   ]
  },
  {
   "cell_type": "markdown",
   "id": "582a2dd5-2e7e-437f-8e10-e1c2ddf8f791",
   "metadata": {
    "editable": true,
    "slideshow": {
     "slide_type": "slide"
    },
    "tags": []
   },
   "source": [
    "## Model Development"
   ]
  },
  {
   "cell_type": "markdown",
   "id": "3b84863c-59b6-471f-be4a-536d2efda405",
   "metadata": {
    "editable": true,
    "slideshow": {
     "slide_type": "fragment"
    },
    "tags": []
   },
   "source": [
    "Choosing a modeling approach involves selecting an appropriate machine learning algorithm for the problem. Here, we use a basic K-Nearest Neighbors (KNN) classifier for predicting purchase interactions. The model is trained on the training data and evaluated on the test data."
   ]
  },
  {
   "cell_type": "code",
   "execution_count": 12,
   "id": "ac47ff55-36b7-41dd-ada0-6c183cf8d100",
   "metadata": {
    "editable": true,
    "slideshow": {
     "slide_type": "slide"
    },
    "tags": []
   },
   "outputs": [
    {
     "name": "stdout",
     "output_type": "stream",
     "text": [
      "Model Accuracy: 0.536\n"
     ]
    }
   ],
   "source": [
    "from sklearn.model_selection import train_test_split\n",
    "from sklearn.metrics import accuracy_score\n",
    "from sklearn.neighbors import KNeighborsClassifier\n",
    "\n",
    "# Features and target variable\n",
    "X = df[['age', 'gender_M', 'gender_F', 'category_Electronics', 'category_Clothing', 'category_Books']]\n",
    "y = df['interaction_type_purchase']\n",
    "\n",
    "# Train-test split\n",
    "X_train, X_test, y_train, y_test = train_test_split(X, y, test_size=0.2, random_state=42)\n",
    "\n",
    "# Model training\n",
    "model = KNeighborsClassifier(n_neighbors=3)\n",
    "model.fit(X_train, y_train)\n",
    "\n",
    "# Model evaluation\n",
    "y_pred = model.predict(X_test)\n",
    "accuracy = accuracy_score(y_test, y_pred)\n",
    "print(f\"Model Accuracy: {accuracy}\")"
   ]
  },
  {
   "cell_type": "markdown",
   "id": "5505763b-0272-40c3-828c-5ac73b5045fd",
   "metadata": {
    "editable": true,
    "slideshow": {
     "slide_type": "slide"
    },
    "tags": []
   },
   "source": [
    "### Confusion matrix and Accuracy Score"
   ]
  },
  {
   "cell_type": "markdown",
   "id": "f03a530e-0150-49e9-86d5-d8d5936c394f",
   "metadata": {
    "editable": true,
    "slideshow": {
     "slide_type": "fragment"
    },
    "tags": []
   },
   "source": [
    "1. __Confusion Matrix__\n",
    "   - A confusion matrix visualizes the performance of a classification model. It shows the number of true positives, true negatives, false positives, and false negatives. In our case, it indicates how well the model predicts between 'View' and 'Purchase' interactions.\n",
    "  \n",
    "2. __Accuracy Score__\n",
    "   - A bar plot visualizes the accuracy score of the model. It provides a clear representation of the model's overall performance on the test data.\n",
    "  \n",
    "These visualizations help in interpreting the model's results and assessing its accuracy in making predictions. They are valuable tools for communicating the model's performance to stakeholders and understanding where the model excels or needs improvement."
   ]
  },
  {
   "cell_type": "code",
   "execution_count": 13,
   "id": "c3a495cd-59ff-43d3-b778-c10ca9ad4197",
   "metadata": {
    "editable": true,
    "slideshow": {
     "slide_type": "subslide"
    },
    "tags": []
   },
   "outputs": [
    {
     "data": {
      "image/png": "[encoded data removed]",
      "text/plain": [
       "<Figure size 1200x400 with 3 Axes>"
      ]
     },
     "metadata": {},
     "output_type": "display_data"
    }
   ],
   "source": [
    "from sklearn.metrics import confusion_matrix\n",
    "\n",
    "cm = confusion_matrix(y_test, y_pred)\n",
    "\n",
    "fig, ax = plt.subplots(1,2, figsize = (12, 4))\n",
    "\n",
    "# Visualize confusion matrix\n",
    "sns.heatmap(cm, annot=True, fmt='d', cmap='Blues', xticklabels=['View', 'Purchase'], yticklabels=['View', 'Purchase'], ax = ax[0])\n",
    "ax[0].set_title('Confusion Matrix')\n",
    "ax[0].set_xlabel('Predicted Label')\n",
    "ax[0].set_ylabel('True Label')\n",
    "\n",
    "# Visualize Accuracy Score\n",
    "sns.barplot(x=['Model Accuracy'], y=[accuracy], color='skyblue', ax = ax[1])\n",
    "ax[1].set_title('Model Accuracy')\n",
    "ax[1].set_ylabel('Accuracy')\n",
    "ax[1].set_ylim(0, 1)\n",
    "\n",
    "plt.show()"
   ]
  },
  {
   "cell_type": "markdown",
   "id": "15fb5c1d-ac75-430d-afd5-3ddf5bbdd334",
   "metadata": {
    "editable": true,
    "slideshow": {
     "slide_type": "slide"
    },
    "tags": []
   },
   "source": [
    "## Deployment"
   ]
  },
  {
   "cell_type": "markdown",
   "id": "4acaa230-7ae7-4160-a6e6-03a3c32e5d86",
   "metadata": {
    "editable": true,
    "slideshow": {
     "slide_type": "fragment"
    },
    "tags": []
   },
   "source": [
    "Deployment involves making the trained model available for use in real-world scenarios. This could include integrating it into existing systems, creating an API, or any other method to apply the model to new data and make predictions.\r\n",
    "\r\n",
    "These steps in the data science life cycle are essential for transforming raw data into actionable insights. Each phase contributes to the overall goal of solving a business problem through data-driven decision-making."
   ]
  }
 ],
 "metadata": {
  "kernelspec": {
   "display_name": "Python 3 (ipykernel)",
   "language": "python",
   "name": "python3"
  },
  "language_info": {
   "codemirror_mode": {
    "name": "ipython",
    "version": 3
   },
   "file_extension": ".py",
   "mimetype": "text/x-python",
   "name": "python",
   "nbconvert_exporter": "python",
   "pygments_lexer": "ipython3",
   "version": "3.11.6"
  }
 },
 "nbformat": 4,
 "nbformat_minor": 5
}
