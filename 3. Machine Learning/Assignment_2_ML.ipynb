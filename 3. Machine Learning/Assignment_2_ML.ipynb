{
 "cells": [
  {
   "cell_type": "markdown",
   "id": "2c0860b9-f3d1-4ee3-977b-d4a918605cac",
   "metadata": {},
   "source": [
    "Assignment 2"
   ]
  },
  {
   "cell_type": "markdown",
   "id": "96f16060-09ad-4c33-9ca9-eec12f2e0a34",
   "metadata": {},
   "source": [
    "Q1. Using the scikit-learn library, write a code snippet to split a dataset into training (80%) and testing (20%) sets."
   ]
  },
  {
   "cell_type": "code",
   "execution_count": null,
   "id": "3758f149-4b74-4fdd-a5a4-3b0ac4cdc3f1",
   "metadata": {},
   "outputs": [],
   "source": []
  },
  {
   "cell_type": "markdown",
   "id": "df0838cc-d062-4383-a244-d5d76ae44d24",
   "metadata": {},
   "source": [
    "Q2. Write a Python code snippet using Matplotlib to create a simple line plot. Include labels for the x-axis and y-axis."
   ]
  },
  {
   "cell_type": "code",
   "execution_count": null,
   "id": "52c273d6-b562-46bd-9a28-57a0e25c93f7",
   "metadata": {},
   "outputs": [],
   "source": []
  },
  {
   "cell_type": "markdown",
   "id": "7820fe47-fb00-4d70-86b0-35ee00312da3",
   "metadata": {},
   "source": [
    "Q3.Use Seaborn to generate a scatter plot from a dataset. Customize the color and size of the markers."
   ]
  },
  {
   "cell_type": "code",
   "execution_count": null,
   "id": "73b0cd0a-ece5-4851-9f1a-cd57e96f2118",
   "metadata": {},
   "outputs": [],
   "source": []
  },
  {
   "cell_type": "markdown",
   "id": "c2bd5645-7394-472a-9750-4c09264ad361",
   "metadata": {},
   "source": [
    "Q4. Write code to create a vertical bar chart using Matplotlib. Customize the colors of the bars and add a title to the chart."
   ]
  },
  {
   "cell_type": "code",
   "execution_count": null,
   "id": "9597844a-b778-41f3-9aee-85150a24a0aa",
   "metadata": {},
   "outputs": [],
   "source": []
  },
  {
   "cell_type": "markdown",
   "id": "ea91dd41-0c61-44be-b300-91216cc82b41",
   "metadata": {},
   "source": [
    "Q5. Write Python code to generate a heatmap using Seaborn. Use a correlation matrix as input and add annotations to the cells."
   ]
  },
  {
   "cell_type": "code",
   "execution_count": null,
   "id": "0d3e03e8-58bf-40a1-899f-6d7a6094cd08",
   "metadata": {},
   "outputs": [],
   "source": []
  },
  {
   "cell_type": "markdown",
   "id": "a062f9bb-2179-4224-8748-a3ca077f884c",
   "metadata": {},
   "source": [
    "Q6.Create a figure with multiple subplots using Matplotlib. Display multiple line plots on the same figure."
   ]
  },
  {
   "cell_type": "code",
   "execution_count": null,
   "id": "d69499a1-c256-4c57-bc6d-85b3d208c6d5",
   "metadata": {},
   "outputs": [],
   "source": []
  }
 ],
 "metadata": {
  "kernelspec": {
   "display_name": "Python 3 (ipykernel)",
   "language": "python",
   "name": "python3"
  },
  "language_info": {
   "codemirror_mode": {
    "name": "ipython",
    "version": 3
   },
   "file_extension": ".py",
   "mimetype": "text/x-python",
   "name": "python",
   "nbconvert_exporter": "python",
   "pygments_lexer": "ipython3",
   "version": "3.10.12"
  }
 },
 "nbformat": 4,
 "nbformat_minor": 5
}
