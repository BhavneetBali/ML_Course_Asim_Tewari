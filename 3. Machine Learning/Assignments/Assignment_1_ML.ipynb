{
 "cells": [
  {
   "cell_type": "markdown",
   "id": "a387481a-bbed-41e0-850f-995d5d0b3b2a",
   "metadata": {},
   "source": [
    "Assignment 1"
   ]
  },
  {
   "cell_type": "markdown",
   "id": "52b90d0b-da06-47cb-8ffa-516e4638f4c4",
   "metadata": {},
   "source": [
    "Q1. Write a Python program using pandas to load a dataset from the \"data.csv\" CSV file, handling potential encoding issues."
   ]
  },
  {
   "cell_type": "code",
   "execution_count": null,
   "id": "641cc11f-2df2-4fa8-95f6-ebd893352ed9",
   "metadata": {},
   "outputs": [],
   "source": []
  },
  {
   "cell_type": "markdown",
   "id": "54c1fd3d-6537-4074-a303-ebbb057a819a",
   "metadata": {},
   "source": [
    "Q2. Develop a Python program that prints a concise summary of a dataset's data types, memory usage, and basic statistics using pandas'"
   ]
  },
  {
   "cell_type": "code",
   "execution_count": null,
   "id": "59487fdb-9e73-4372-a497-efcfe997778a",
   "metadata": {},
   "outputs": [],
   "source": []
  },
  {
   "cell_type": "markdown",
   "id": "6f00eed9-25ac-4979-b850-c056e9af0ee5",
   "metadata": {},
   "source": [
    "Q3. Implement a Python program to robustly handle missing values in a dataset, applying advanced techniques like imputation. Clearly document the approach and rationale."
   ]
  },
  {
   "cell_type": "code",
   "execution_count": null,
   "id": "db706a43-07fa-4a6a-ab56-8134c7a03a0b",
   "metadata": {},
   "outputs": [],
   "source": []
  },
  {
   "cell_type": "markdown",
   "id": "3317e461-15cd-4336-ac7a-0dd8a14e71f8",
   "metadata": {},
   "source": [
    "Q4. Write a Python program to check the outliers from the \"data.csv\" CSV file. if dataset having outlier then plot using visualization libraries.  "
   ]
  },
  {
   "cell_type": "code",
   "execution_count": null,
   "id": "cd4caa68-069a-4b0f-b707-440403465ebf",
   "metadata": {},
   "outputs": [],
   "source": []
  },
  {
   "cell_type": "markdown",
   "id": "93d8e4f2-fe32-4875-8084-8721b5b2dd4b",
   "metadata": {},
   "source": [
    "Q5.Develop a Python program to identify and count duplicate records in a dataset, simultaneously providing the count of unique records. "
   ]
  },
  {
   "cell_type": "code",
   "execution_count": null,
   "id": "1de263e3-d836-40d1-a00c-5d3d1a1322ac",
   "metadata": {},
   "outputs": [],
   "source": []
  }
 ],
 "metadata": {
  "kernelspec": {
   "display_name": "Python 3 (ipykernel)",
   "language": "python",
   "name": "python3"
  },
  "language_info": {
   "codemirror_mode": {
    "name": "ipython",
    "version": 3
   },
   "file_extension": ".py",
   "mimetype": "text/x-python",
   "name": "python",
   "nbconvert_exporter": "python",
   "pygments_lexer": "ipython3",
   "version": "3.10.12"
  }
 },
 "nbformat": 4,
 "nbformat_minor": 5
}
