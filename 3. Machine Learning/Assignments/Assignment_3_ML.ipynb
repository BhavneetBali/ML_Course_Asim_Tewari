{
 "cells": [
  {
   "cell_type": "markdown",
   "id": "1dc3be53-19f0-48d4-b0a9-1b6abd09f261",
   "metadata": {},
   "source": [
    "Assignment 3"
   ]
  },
  {
   "cell_type": "markdown",
   "id": "75308164-428c-4246-b610-0c7625b22365",
   "metadata": {},
   "source": [
    "Q1. Implement a simple linear regression model using scikit-learn. Fit the model to a sample dataset and print the coefficients."
   ]
  },
  {
   "cell_type": "code",
   "execution_count": null,
   "id": "3610a435-79eb-4bc2-b049-a02b88d2a625",
   "metadata": {},
   "outputs": [],
   "source": []
  },
  {
   "cell_type": "markdown",
   "id": "cf70bbbe-ff42-4844-a39b-d7dd10fb1bb7",
   "metadata": {},
   "source": [
    "Q2. Use scikit-learn to create a K-Nearest Neighbors classifier. Train the model on a sample dataset and make predictions for new data points."
   ]
  },
  {
   "cell_type": "code",
   "execution_count": null,
   "id": "4f37df72-5a65-49c6-8d95-aaa82408b18d",
   "metadata": {},
   "outputs": [],
   "source": []
  }
 ],
 "metadata": {
  "kernelspec": {
   "display_name": "Python 3 (ipykernel)",
   "language": "python",
   "name": "python3"
  },
  "language_info": {
   "codemirror_mode": {
    "name": "ipython",
    "version": 3
   },
   "file_extension": ".py",
   "mimetype": "text/x-python",
   "name": "python",
   "nbconvert_exporter": "python",
   "pygments_lexer": "ipython3",
   "version": "3.10.12"
  }
 },
 "nbformat": 4,
 "nbformat_minor": 5
}
