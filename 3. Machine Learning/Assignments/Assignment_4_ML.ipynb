{
 "cells": [
  {
   "cell_type": "markdown",
   "id": "4cef01b4-53f4-454e-baa4-60b661aa9018",
   "metadata": {},
   "source": [
    "Assignment 4"
   ]
  },
  {
   "cell_type": "markdown",
   "id": "d0c13ff1-3236-4694-a078-e23eb449edc6",
   "metadata": {},
   "source": [
    "Q1.Write Python code to build a decision tree classifier using scikit-learn. Train the model and visualize the resulting tree."
   ]
  },
  {
   "cell_type": "code",
   "execution_count": null,
   "id": "84405fe0-17ae-4508-8ec8-73f4d236dc16",
   "metadata": {},
   "outputs": [],
   "source": []
  },
  {
   "cell_type": "markdown",
   "id": "e4eccc0a-b4bb-4033-bbd1-88b9bf678650",
   "metadata": {},
   "source": [
    "Q2.Use scikit-learn to apply K-Means clustering to a dataset. Print the cluster centroids and assign labels to data points."
   ]
  },
  {
   "cell_type": "code",
   "execution_count": null,
   "id": "3c01cdce-0f29-4891-a19c-d37ac22a440b",
   "metadata": {},
   "outputs": [],
   "source": []
  },
  {
   "cell_type": "markdown",
   "id": "9bc7df37-6464-45b3-b475-98a64d8eaf28",
   "metadata": {},
   "source": [
    "Q3.Write Python code to create a Random Forest classifier using scikit-learn. Train the model and print the feature importances."
   ]
  },
  {
   "cell_type": "code",
   "execution_count": null,
   "id": "f0781019-8ef4-44a3-97ff-a229fc47de5e",
   "metadata": {},
   "outputs": [],
   "source": []
  }
 ],
 "metadata": {
  "kernelspec": {
   "display_name": "Python 3 (ipykernel)",
   "language": "python",
   "name": "python3"
  },
  "language_info": {
   "codemirror_mode": {
    "name": "ipython",
    "version": 3
   },
   "file_extension": ".py",
   "mimetype": "text/x-python",
   "name": "python",
   "nbconvert_exporter": "python",
   "pygments_lexer": "ipython3",
   "version": "3.10.12"
  }
 },
 "nbformat": 4,
 "nbformat_minor": 5
}
