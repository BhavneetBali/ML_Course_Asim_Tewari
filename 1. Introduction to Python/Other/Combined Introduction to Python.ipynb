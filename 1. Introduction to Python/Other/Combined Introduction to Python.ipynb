{
 "cells": [
  {
   "cell_type": "markdown",
   "metadata": {},
   "source": [
    "# **Introduction to Python**"
   ]
  },
  {
   "cell_type": "markdown",
   "metadata": {
    "slideshow": {
     "slide_type": "notes"
    }
   },
   "source": [
    "## Python Overview\n",
    "Python is a high-level, general-purpose, and very popular programming language. Python programming language (latest Python 3) is being used in web development and machine Learning applications, along with all cutting-edge technology in the Software Industry.\n",
    "\n",
    "Python language is being used by almost all tech-giant companies like – Google, Amazon, Facebook, Instagram, Dropbox, Uber… etc.\n",
    "\n"
   ]
  },
  {
   "cell_type": "markdown",
   "metadata": {},
   "source": [
    "## **Basics of Programming and Data Structures with Python**"
   ]
  },
  {
   "cell_type": "markdown",
   "metadata": {},
   "source": [
    "## Data Types in Python:\n",
    "\n",
    " 1. **int, float, char, str:**\n",
    "   - *Explanation:* These are fundamental data types in Python.\n",
    "     - `int`: Represents integers (whole numbers).\n",
    "     - `float`: Represents floating-point numbers (decimals).\n",
    "     - `str`: Represents strings (sequences of characters).\n",
    "     - `char`: In Python, characters are represented as strings of length 1.\n",
    "\n",
    "2. **list, tuple:**\n",
    "   - *Explanation:* These are both data structures used to store collections of items.\n",
    "     - `list`: A mutable, ordered collection of items.\n",
    "     - `tuple`: An immutable, ordered collection of items."
   ]
  },
  {
   "cell_type": "markdown",
   "metadata": {},
   "source": [
    "### Example:"
   ]
  },
  {
   "cell_type": "code",
   "execution_count": 1,
   "metadata": {},
   "outputs": [
    {
     "name": "stdout",
     "output_type": "stream",
     "text": [
      "5 3.14 A Hello, Python! [1, 2, 3, 4] (1, 'two', 3.0)\n"
     ]
    }
   ],
   "source": [
    "# Example of different data types in Python\n",
    "\n",
    "# Integer\n",
    "my_int = 5\n",
    "\n",
    "# Float\n",
    "my_float = 3.14\n",
    "\n",
    "# Character\n",
    "my_char = 'A'\n",
    "\n",
    "# String\n",
    "my_str = \"Hello, Python!\"\n",
    "\n",
    "# List\n",
    "my_list = [1, 2, 3, 4]\n",
    "\n",
    "# Tuple\n",
    "my_tuple = (1, 'two', 3.0)\n",
    "\n",
    "# Displaying the values\n",
    "print(my_int, my_float, my_char, my_str, my_list, my_tuple)\n"
   ]
  },
  {
   "cell_type": "markdown",
   "metadata": {},
   "source": [
    "### Tutorial:\n",
    "1. Create a variable of int and string and perform operations.\n",
    "   \n",
    "2. Explore the difference between a list and a tuple by performing basic operations like appending, indexing, and slicing."
   ]
  },
  {
   "cell_type": "code",
   "execution_count": null,
   "metadata": {},
   "outputs": [],
   "source": [
    "# Tutorial 1\n",
    "# Integer and Float Operations\n",
    "num1 = 10\n",
    "num2 = 3.5\n",
    "\n",
    "# Addition\n",
    "addition_result = num1 + num2\n",
    "print(\"Addition:\", addition_result)\n",
    "\n",
    "# Subtraction\n",
    "subtraction_result = num1 - num2\n",
    "print(\"Subtraction:\", subtraction_result)\n",
    "\n",
    "# Multiplication\n",
    "multiplication_result = num1 * num2\n",
    "print(\"Multiplication:\", multiplication_result)\n",
    "\n",
    "# Division\n",
    "division_result = num1 / num2\n",
    "print(\"Division:\", division_result)\n",
    "\n",
    "# Modulus\n",
    "modulus_result = num1 % num2\n",
    "print(\"Modulus:\", modulus_result)\n",
    "\n",
    "# Exponentiation\n",
    "exponentiation_result = num1 ** 2\n",
    "print(\"Exponentiation:\", exponentiation_result)\n",
    "\n",
    "\n",
    "\n",
    "# String Concatenation\n",
    "str1 = \"Hello\"\n",
    "str2 = \"World\"\n",
    "\n",
    "concatenated_str = str1 + \" \" + str2\n",
    "print(\"Concatenated String:\", concatenated_str)\n",
    "\n",
    "# String Repetition\n",
    "repeated_str = str1 * 3\n",
    "print(\"Repeated String:\", repeated_str)\n",
    "\n",
    "# String Length\n",
    "str_length = len(concatenated_str)\n",
    "print(\"Length of the String:\", str_length)\n",
    "\n",
    "# String Indexing\n",
    "first_char = concatenated_str[0]\n",
    "print(\"First Character:\", first_char)\n",
    "\n",
    "# String Slicing\n",
    "sliced_str = concatenated_str[6:]\n",
    "print(\"Sliced String:\", sliced_str)\n"
   ]
  },
  {
   "cell_type": "code",
   "execution_count": null,
   "metadata": {},
   "outputs": [],
   "source": [
    "# Tutorial 2\n",
    "# List operations\n",
    "my_list = [1, 2, 3, 4]\n",
    "my_list.append(5)\n",
    "print(\"List after appending 5:\", my_list)\n",
    "print(\"First element of the list:\", my_list[0])\n",
    "print(\"Slicing the list:\", my_list[1:3])\n",
    "\n",
    "# Tuple operations\n",
    "my_tuple = (1, 'two', 3.0)\n",
    "# Tuple does not support item assignment, so no append or change operations\n",
    "print(\"First element of the tuple:\", my_tuple[0])\n",
    "print(\"Slicing the tuple:\", my_tuple[1:])\n"
   ]
  },
  {
   "cell_type": "markdown",
   "metadata": {},
   "source": [
    "### Assignment:\n",
    "Write a Python program that takes two numbers as input from the user and prints their sum."
   ]
  },
  {
   "cell_type": "code",
   "execution_count": null,
   "metadata": {},
   "outputs": [],
   "source": [
    "# Code here..."
   ]
  },
  {
   "cell_type": "markdown",
   "metadata": {},
   "source": [
    "---"
   ]
  },
  {
   "cell_type": "markdown",
   "metadata": {},
   "source": [
    "## Conditional Statements\n",
    "\n",
    "1. **If:**\n",
    "   - *Explanation:* The `if` statement is used for decision-making. It executes a block of code only if a specified condition is true.\n",
    "\n",
    "2. **If-else:**\n",
    "   - *Explanation:* The `if-else` statement allows for two possible outcomes. If the condition is true, the code inside the `if` block is executed; otherwise, the code inside the `else` block is executed.\n",
    "\n",
    "3. **If-elif-else:**\n",
    "   - *Explanation:* The `if-elif-else` statement is an extension of `if-else` and allows for multiple conditions to be checked sequentially. The first true condition's block is executed.\n"
   ]
  },
  {
   "cell_type": "markdown",
   "metadata": {},
   "source": [
    "### Example:"
   ]
  },
  {
   "cell_type": "code",
   "execution_count": null,
   "metadata": {},
   "outputs": [],
   "source": [
    "# Example of if-else statement\n",
    "\n",
    "num = int(input(\"Enter a number: \"))\n",
    "\n",
    "if num > 0:\n",
    "    print(\"Positive number\")\n",
    "elif num == 0:\n",
    "    print(\"Zero\")\n",
    "else:\n",
    "    print(\"Negative number\")\n"
   ]
  },
  {
   "cell_type": "markdown",
   "metadata": {},
   "source": [
    "### Tutorial:\n",
    "1. Modify the above code to check if a number is even or odd.\n",
    "   \n",
    "2. Write a program that compares two numbers and prints whether they are equal or not."
   ]
  },
  {
   "cell_type": "code",
   "execution_count": null,
   "metadata": {},
   "outputs": [],
   "source": [
    "# Tutorial 1\n",
    "num = int(input(\"Enter a number: \"))\n",
    "\n",
    "if num > 0:\n",
    "    print(\"Positive number\")\n",
    "    if num % 2 == 0:\n",
    "        print(\"Even\")\n",
    "    else:\n",
    "        print(\"Odd\")\n",
    "elif num == 0:\n",
    "    print(\"Zero\")\n",
    "else:\n",
    "    print(\"Negative number\")"
   ]
  },
  {
   "cell_type": "code",
   "execution_count": null,
   "metadata": {},
   "outputs": [],
   "source": [
    "# Tutorial 2\n",
    "num1 = int(input(\"Enter the first number: \"))\n",
    "num2 = int(input(\"Enter the second number: \"))\n",
    "\n",
    "if num1 == num2:\n",
    "    print(\"Numbers are equal.\")\n",
    "else:\n",
    "    print(\"Numbers are not equal.\")"
   ]
  },
  {
   "cell_type": "markdown",
   "metadata": {},
   "source": [
    "### Assignment:\n",
    "Write a Python program that takes a year as input and checks if it's a leap year or not."
   ]
  },
  {
   "cell_type": "code",
   "execution_count": null,
   "metadata": {},
   "outputs": [],
   "source": [
    "# Code here..."
   ]
  },
  {
   "cell_type": "markdown",
   "metadata": {},
   "source": [
    "---"
   ]
  },
  {
   "cell_type": "markdown",
   "metadata": {},
   "source": [
    "## Loops\n",
    "\n",
    "1. **While Loop:**\n",
    "   - *Explanation:* The `while` loop continues to execute a block of code as long as a specified condition is true. It's useful when the number of iterations is not known beforehand.\n",
    "\n",
    "2. **For Loop:**\n",
    "   - *Explanation:* The `for` loop is used to iterate over a sequence (such as a list or tuple) or other iterable objects. It's often used when the number of iterations is known.\n"
   ]
  },
  {
   "cell_type": "markdown",
   "metadata": {},
   "source": [
    "### Example:"
   ]
  },
  {
   "cell_type": "code",
   "execution_count": null,
   "metadata": {},
   "outputs": [],
   "source": [
    "# Example of a for loop\n",
    "\n",
    "fruits = ['apple', 'banana', 'cherry']\n",
    "\n",
    "for fruit in fruits:\n",
    "    print(fruit)\n"
   ]
  },
  {
   "cell_type": "markdown",
   "metadata": {},
   "source": [
    "### Tutorial:\n",
    "1. Rewrite the above code using a while loop.\n",
    "\n",
    "2. Write a program to find the sum of all numbers from 1 to 10 using a for loop."
   ]
  },
  {
   "cell_type": "code",
   "execution_count": null,
   "metadata": {},
   "outputs": [],
   "source": [
    "# Tutorial 1\n",
    "fruits = ['apple', 'banana', 'cherry']\n",
    "index = 0\n",
    "\n",
    "while index < len(fruits):\n",
    "    print(fruits[index])\n",
    "    index += 1"
   ]
  },
  {
   "cell_type": "code",
   "execution_count": null,
   "metadata": {},
   "outputs": [],
   "source": [
    "# Tutorial 2\n",
    "sum_numbers = 0\n",
    "\n",
    "for i in range(1, 11):\n",
    "    sum_numbers += i\n",
    "\n",
    "print(\"Sum of numbers from 1 to 10:\", sum_numbers)"
   ]
  },
  {
   "cell_type": "markdown",
   "metadata": {},
   "source": [
    "### Assignment:\n",
    "Write a Python program to print the Fibonacci sequence up to the 10th term."
   ]
  },
  {
   "cell_type": "code",
   "execution_count": null,
   "metadata": {},
   "outputs": [],
   "source": [
    "# Code here..."
   ]
  },
  {
   "cell_type": "markdown",
   "metadata": {},
   "source": [
    "---"
   ]
  },
  {
   "cell_type": "markdown",
   "metadata": {},
   "source": [
    "## Object-Oriented Programming (OOPS)\n",
    "\n",
    "1. **Classes and Objects:**\n",
    "   - *Explanation:* Classes are blueprints for creating objects. Objects are instances of classes and can have attributes (variables) and methods (functions)."
   ]
  },
  {
   "cell_type": "markdown",
   "metadata": {},
   "source": [
    "### Example:"
   ]
  },
  {
   "cell_type": "code",
   "execution_count": null,
   "metadata": {},
   "outputs": [],
   "source": [
    "# Example of a simple class\n",
    "\n",
    "class Dog:\n",
    "    def __init__(self, name, age):\n",
    "        self.name = name\n",
    "        self.age = age\n",
    "\n",
    "    def bark(self):\n",
    "        print(f\"{self.name} says Woof!\")\n",
    "\n",
    "# Creating an instance of the Dog class\n",
    "my_dog = Dog(\"Buddy\", 3)\n",
    "\n",
    "# Calling the bark method\n",
    "my_dog.bark()\n"
   ]
  },
  {
   "cell_type": "markdown",
   "metadata": {},
   "source": [
    "### Tutorial:\n",
    "1. Add a method to the Dog class to calculate the dog's age in human years (assume 1 dog year = 7 human years).\n",
    "   \n",
    "2. Create another class, \"Person,\" with attributes for name and age. Create an instance of both the Dog and Person classes and interact with them."
   ]
  },
  {
   "cell_type": "code",
   "execution_count": null,
   "metadata": {},
   "outputs": [],
   "source": [
    "# Tutorial 1\n",
    "class Dog:\n",
    "    def __init__(self, name, age):\n",
    "        self.name = name\n",
    "        self.age = age\n",
    "\n",
    "    def bark(self):\n",
    "        print(f\"{self.name} says Woof!\")\n",
    "\n",
    "    def calculate_human_years(self):\n",
    "        human_years = self.age * 7\n",
    "        print(f\"{self.name}'s age in human years is {human_years}.\")\n",
    "\n",
    "# Creating an instance of the Dog class\n",
    "my_dog = Dog(\"Buddy\", 3)\n",
    "\n",
    "# Calling the bark method\n",
    "my_dog.bark()\n",
    "\n",
    "# Calling the new method\n",
    "my_dog.calculate_human_years()\n"
   ]
  },
  {
   "cell_type": "code",
   "execution_count": null,
   "metadata": {},
   "outputs": [],
   "source": [
    "# Tutorial 2\n",
    "class Person:\n",
    "    def __init__(self, name, age):\n",
    "        self.name = name\n",
    "        self.age = age\n",
    "\n",
    "# Creating an instance of the Person class\n",
    "person = Person(\"John\", 25)\n",
    "\n",
    "# Interacting with both Dog and Person instances\n",
    "print(f\"{person.name} is {person.age} years old.\")\n",
    "my_dog.calculate_human_years()\n"
   ]
  },
  {
   "cell_type": "markdown",
   "metadata": {},
   "source": [
    "### Assignment:\n",
    "Create a Python class representing a basic calculator with methods for addition, subtraction, multiplication, and division."
   ]
  },
  {
   "cell_type": "code",
   "execution_count": null,
   "metadata": {},
   "outputs": [],
   "source": [
    "# Code here..."
   ]
  },
  {
   "cell_type": "markdown",
   "metadata": {},
   "source": [
    "---"
   ]
  },
  {
   "cell_type": "markdown",
   "metadata": {},
   "source": [
    "## Data Handling Tools in Python\n",
    "\n",
    "1. **Pandas:**\n",
    "   - *Explanation:* Pandas is a powerful library for data manipulation and analysis. It provides data structures like Series and DataFrame, making it easy to handle and analyze structured data.\n",
    "\n",
    "2. **NumPy:**\n",
    "   - *Explanation:* NumPy is a library for numerical operations in Python. It introduces support for large, multi-dimensional arrays and matrices, along with mathematical functions to operate on these arrays."
   ]
  },
  {
   "cell_type": "markdown",
   "metadata": {},
   "source": [
    "### Example:"
   ]
  },
  {
   "cell_type": "code",
   "execution_count": null,
   "metadata": {},
   "outputs": [],
   "source": [
    "# Example using Pandas and NumPy\n",
    "\n",
    "import pandas as pd\n",
    "import numpy as np\n",
    "\n",
    "# Creating a Pandas Series\n",
    "s = pd.Series([1, 3, 5, np.nan, 6, 8])\n",
    "\n",
    "# Creating a NumPy array\n",
    "arr = np.array([1, 2, 3, 4, 5])\n",
    "\n",
    "# Displaying the Series and Array\n",
    "print(\"Pandas Series:\")\n",
    "print(s)\n",
    "\n",
    "print(\"\\nNumPy Array:\")\n",
    "print(arr)\n"
   ]
  },
  {
   "cell_type": "markdown",
   "metadata": {},
   "source": [
    "### Tutorial:\n",
    "1. Explore Pandas Series and DataFrame by creating a DataFrame from a dictionary.\n",
    "   \n",
    "2. Perform basic array operations using NumPy, such as element-wise addition and multiplication."
   ]
  },
  {
   "cell_type": "code",
   "execution_count": null,
   "metadata": {},
   "outputs": [],
   "source": [
    "# Tutorial 1\n",
    "import pandas as pd\n",
    "\n",
    "# Creating a Pandas DataFrame from a dictionary\n",
    "data = {'Name': ['Alice', 'Bob', 'Charlie'],\n",
    "        'Age': [25, 30, 35],\n",
    "        'City': ['New York', 'San Francisco', 'Los Angeles']}\n",
    "\n",
    "df = pd.DataFrame(data)\n",
    "\n",
    "# Displaying the DataFrame\n",
    "print(df)\n"
   ]
  },
  {
   "cell_type": "code",
   "execution_count": null,
   "metadata": {},
   "outputs": [],
   "source": [
    "# Tutorial 2\n",
    "import numpy as np\n",
    "\n",
    "# Basic NumPy array operations\n",
    "arr1 = np.array([1, 2, 3])\n",
    "arr2 = np.array([4, 5, 6])\n",
    "\n",
    "# Element-wise addition\n",
    "result_addition = arr1 + arr2\n",
    "print(\"Element-wise addition:\", result_addition)\n",
    "\n",
    "# Element-wise multiplication\n",
    "result_multiplication = arr1 * arr2\n",
    "print(\"Element-wise multiplication:\", result_multiplication)\n"
   ]
  },
  {
   "cell_type": "markdown",
   "metadata": {},
   "source": [
    "### Assignment:\n",
    "Write a Python program using Pandas to read a CSV file (you can create a sample CSV file) and display its contents"
   ]
  },
  {
   "cell_type": "code",
   "execution_count": null,
   "metadata": {},
   "outputs": [],
   "source": [
    "# Code here..."
   ]
  },
  {
   "cell_type": "markdown",
   "metadata": {},
   "source": [
    "---"
   ]
  }
 ],
 "metadata": {
  "kernelspec": {
   "display_name": ".venv",
   "language": "python",
   "name": "python3"
  },
  "language_info": {
   "codemirror_mode": {
    "name": "ipython",
    "version": 3
   },
   "file_extension": ".py",
   "mimetype": "text/x-python",
   "name": "python",
   "nbconvert_exporter": "python",
   "pygments_lexer": "ipython3",
   "version": "3.12.0"
  }
 },
 "nbformat": 4,
 "nbformat_minor": 2
}
