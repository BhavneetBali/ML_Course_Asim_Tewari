{
  "nbformat": 4,
  "nbformat_minor": 0,
  "metadata": {
    "colab": {
      "provenance": [],
      "authorship_tag": "ABX9TyNme6hVTnelGqPW59q1QtKN",
      "include_colab_link": true
    },
    "kernelspec": {
      "name": "python3",
      "display_name": "Python 3"
    },
    "language_info": {
      "name": "python"
    }
  },
  "cells": [
    {
      "cell_type": "markdown",
      "metadata": {
        "id": "view-in-github",
        "colab_type": "text"
      },
      "source": [
        "<a href=\"https://colab.research.google.com/github/hirak214/ML_Course_Asim_Tewari/blob/main/1.%20Introduction%20to%20Python/Tutorial/ITP_Tut_10.ipynb\" target=\"_parent\"><img src=\"https://colab.research.google.com/assets/colab-badge.svg\" alt=\"Open In Colab\"/></a>"
      ]
    },
    {
      "cell_type": "markdown",
      "source": [
        "## Introduction to Python - Tutorial\n"
      ],
      "metadata": {
        "id": "D57UrolE_tXF"
      }
    },
    {
      "cell_type": "markdown",
      "source": [
        "### Data Handling Tools in Python"
      ],
      "metadata": {
        "id": "vGZoKoyb_9Z6"
      }
    },
    {
      "cell_type": "markdown",
      "source": [
        "---"
      ],
      "metadata": {
        "id": "matz-6zFAAAD"
      }
    },
    {
      "cell_type": "markdown",
      "source": [
        "### Perform basic array operations using NumPy, such as element-wise addition and multiplication.\n",
        "\n"
      ],
      "metadata": {
        "id": "x8dstRIi_6Fq"
      }
    },
    {
      "cell_type": "code",
      "execution_count": null,
      "metadata": {
        "id": "zqf1LKGe_q2k"
      },
      "outputs": [],
      "source": []
    }
  ]
}