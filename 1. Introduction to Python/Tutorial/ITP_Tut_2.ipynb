{
  "nbformat": 4,
  "nbformat_minor": 0,
  "metadata": {
    "colab": {
      "provenance": [],
      "authorship_tag": "ABX9TyOvHfYveIeoruYu8zx0dK5L",
      "include_colab_link": true
    },
    "kernelspec": {
      "name": "python3",
      "display_name": "Python 3"
    },
    "language_info": {
      "name": "python"
    }
  },
  "cells": [
    {
      "cell_type": "markdown",
      "metadata": {
        "id": "view-in-github",
        "colab_type": "text"
      },
      "source": [
        "<a href=\"https://colab.research.google.com/github/hirak214/ML_Course_Asim_Tewari/blob/main/1.%20Introduction%20to%20Python/Tutorial/ITP_Tut_2.ipynb\" target=\"_parent\"><img src=\"https://colab.research.google.com/assets/colab-badge.svg\" alt=\"Open In Colab\"/></a>"
      ]
    },
    {
      "cell_type": "markdown",
      "source": [
        "## Introduction to Python - Tutorial\n"
      ],
      "metadata": {
        "id": "D57UrolE_tXF"
      }
    },
    {
      "cell_type": "markdown",
      "source": [
        "### Data Type in Python"
      ],
      "metadata": {
        "id": "vGZoKoyb_9Z6"
      }
    },
    {
      "cell_type": "markdown",
      "source": [
        "---"
      ],
      "metadata": {
        "id": "matz-6zFAAAD"
      }
    },
    {
      "cell_type": "markdown",
      "source": [
        "### Explore the difference between a list and a tuple by performing basic operations like appending, indexing, and slicing."
      ],
      "metadata": {
        "id": "x8dstRIi_6Fq"
      }
    },
    {
      "cell_type": "code",
      "execution_count": null,
      "metadata": {
        "id": "zqf1LKGe_q2k"
      },
      "outputs": [],
      "source": []
    }
  ]
}