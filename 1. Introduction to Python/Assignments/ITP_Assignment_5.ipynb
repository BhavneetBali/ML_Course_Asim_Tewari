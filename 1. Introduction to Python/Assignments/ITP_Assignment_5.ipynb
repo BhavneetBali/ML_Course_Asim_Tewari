{
 "cells": [
  {
   "cell_type": "markdown",
   "metadata": {},
   "source": [
    "# Assignment 1\n",
    "#### Task: Data Handling\n",
    "Write a Python program using Pandas to read a CSV file (you can create a sample CSV file) and display its contents"
   ]
  },
  {
   "cell_type": "code",
   "execution_count": null,
   "metadata": {},
   "outputs": [],
   "source": [
    "# Code here..."
   ]
  }
 ],
 "metadata": {
  "language_info": {
   "name": "python"
  }
 },
 "nbformat": 4,
 "nbformat_minor": 2
}
