{
 "cells": [
  {
   "cell_type": "markdown",
   "metadata": {
    "colab_type": "text",
    "editable": true,
    "id": "view-in-github",
    "slideshow": {
     "slide_type": "skip"
    },
    "tags": []
   },
   "source": [
    "<a href=\"https://colab.research.google.com/github/hirak214/ML_Course_Asim_Tewari/blob/main/1.%20Introduction%20to%20Python/Intro_to_Python_Examples.ipynb\" target=\"_parent\"><img src=\"https://colab.research.google.com/assets/colab-badge.svg\" alt=\"Open In Colab\"/></a>"
   ]
  },
  {
   "cell_type": "markdown",
   "metadata": {
    "editable": true,
    "id": "FiLotq-VbwEV",
    "slideshow": {
     "slide_type": "slide"
    },
    "tags": []
   },
   "source": [
    "# **Introduction to Python**"
   ]
  },
  {
   "cell_type": "markdown",
   "metadata": {
    "editable": true,
    "id": "AwNrCzTSbu9o",
    "slideshow": {
     "slide_type": "slide"
    },
    "tags": []
   },
   "source": [
    "## Python Overview\n",
    "Python is a high-level, general-purpose, and very popular programming language. Python programming language (latest Python 3) is being used in web development and machine Learning applications, along with all cutting-edge technology in the Software Industry.\n",
    "\n",
    "Python language is being used by almost all tech-giant companies like – Google, Amazon, Facebook, Instagram, Dropbox, Uber… etc.\n",
    "\n"
   ]
  },
  {
   "cell_type": "markdown",
   "metadata": {
    "editable": true,
    "id": "1FtL472Vbr_L",
    "slideshow": {
     "slide_type": "slide"
    },
    "tags": []
   },
   "source": [
    "## **Basics of Programming and Data Structures with Python**"
   ]
  },
  {
   "cell_type": "markdown",
   "metadata": {
    "editable": true,
    "id": "34IJN5UXbfl9",
    "slideshow": {
     "slide_type": "fragment"
    },
    "tags": []
   },
   "source": [
    "## Data Types in Python:\n",
    "\n",
    " 1. **int, float, char, str:**\n",
    "   - *Explanation:* These are fundamental data types in Python.\n",
    "     - `int`: Represents integers (whole numbers).\n",
    "     - `float`: Represents floating-point numbers (decimals).\n",
    "     - `str`: Represents strings (sequences of characters).\n",
    "     - `char`: In Python, characters are represented as strings of length 1.\n",
    "\n",
    "2. **list, tuple:**\n",
    "   - *Explanation:* These are both data structures used to store collections of items.\n",
    "     - `list`: A mutable, ordered collection of items.\n",
    "     - `tuple`: An immutable, ordered collection of items."
   ]
  },
  {
   "cell_type": "code",
   "execution_count": 2,
   "metadata": {
    "colab": {
     "base_uri": "https://localhost:8080/"
    },
    "editable": true,
    "id": "z3smGRHtbLYM",
    "outputId": "2b6ce9b7-193e-4bac-f019-0aab5016969b",
    "slideshow": {
     "slide_type": "subslide"
    },
    "tags": []
   },
   "outputs": [
    {
     "name": "stdout",
     "output_type": "stream",
     "text": [
      "5 3.14 A Hello, Python! [1, 2, 3, 4] (1, 'two', 3.0)\n"
     ]
    }
   ],
   "source": [
    "# Example of different data types in Python\n",
    "\n",
    "# Integer\n",
    "my_int = 5\n",
    "\n",
    "# Float\n",
    "my_float = 3.14\n",
    "\n",
    "# Character\n",
    "my_char = 'A'\n",
    "\n",
    "# String\n",
    "my_str = \"Hello, Python!\"\n",
    "\n",
    "# List\n",
    "my_list = [1, 2, 3, 4]\n",
    "\n",
    "# Tuple\n",
    "my_tuple = (1, 'two', 3.0)\n",
    "\n",
    "# Displaying the values\n",
    "print(my_int, my_float, my_char, my_str, my_list, my_tuple)\n"
   ]
  },
  {
   "cell_type": "markdown",
   "metadata": {
    "id": "8UrRENoxcSnF"
   },
   "source": [
    "---"
   ]
  },
  {
   "cell_type": "markdown",
   "metadata": {
    "editable": true,
    "id": "lkFhx5bsb6T1",
    "slideshow": {
     "slide_type": "slide"
    },
    "tags": []
   },
   "source": [
    "## Conditional Statements\n",
    "\n",
    "1. **If:**\n",
    "   - *Explanation:* The `if` statement is used for decision-making. It executes a block of code only if a specified condition is true.\n",
    "\n",
    "2. **If-else:**\n",
    "   - *Explanation:* The `if-else` statement allows for two possible outcomes. If the condition is true, the code inside the `if` block is executed; otherwise, the code inside the `else` block is executed.\n",
    "\n",
    "3. **If-elif-else:**\n",
    "   - *Explanation:* The `if-elif-else` statement is an extension of `if-else` and allows for multiple conditions to be checked sequentially. The first true condition's block is executed.\n"
   ]
  },
  {
   "cell_type": "code",
   "execution_count": 3,
   "metadata": {
    "colab": {
     "base_uri": "https://localhost:8080/"
    },
    "editable": true,
    "id": "dZxb_kgmb5u5",
    "outputId": "3994b5ec-bbee-42e2-e220-3c661fa6c817",
    "slideshow": {
     "slide_type": "subslide"
    },
    "tags": []
   },
   "outputs": [
    {
     "name": "stdout",
     "output_type": "stream",
     "text": [
      "Enter a number: 12\n",
      "Positive number\n"
     ]
    }
   ],
   "source": [
    "# Example of if-else statement\n",
    "\n",
    "num = int(input(\"Enter a number: \"))\n",
    "\n",
    "if num > 0:\n",
    "    print(\"Positive number\")\n",
    "elif num == 0:\n",
    "    print(\"Zero\")\n",
    "else:\n",
    "    print(\"Negative number\")\n"
   ]
  },
  {
   "cell_type": "markdown",
   "metadata": {
    "editable": true,
    "id": "SW_Ipk-xcRjx",
    "slideshow": {
     "slide_type": ""
    },
    "tags": []
   },
   "source": [
    "---"
   ]
  },
  {
   "cell_type": "markdown",
   "metadata": {
    "editable": true,
    "id": "6eD7H0fzb_iQ",
    "slideshow": {
     "slide_type": "slide"
    },
    "tags": []
   },
   "source": [
    "## Loops\n",
    "\n",
    "1. **While Loop:**\n",
    "   - *Explanation:* The `while` loop continues to execute a block of code as long as a specified condition is true. It's useful when the number of iterations is not known beforehand.\n",
    "\n",
    "2. **For Loop:**\n",
    "   - *Explanation:* The `for` loop is used to iterate over a sequence (such as a list or tuple) or other iterable objects. It's often used when the number of iterations is known.\n"
   ]
  },
  {
   "cell_type": "code",
   "execution_count": 6,
   "metadata": {
    "colab": {
     "base_uri": "https://localhost:8080/"
    },
    "editable": true,
    "id": "WEcLFq3scBcc",
    "outputId": "5ca37a53-fb23-4fee-b027-dffee2b8347a",
    "slideshow": {
     "slide_type": "subslide"
    },
    "tags": []
   },
   "outputs": [
    {
     "name": "stdout",
     "output_type": "stream",
     "text": [
      "apple\n",
      "banana\n",
      "cherry\n",
      "0\n",
      "1\n",
      "2\n",
      "3\n",
      "4\n"
     ]
    }
   ],
   "source": [
    "# Example of a for loop\n",
    "\n",
    "fruits = ['apple', 'banana', 'cherry']\n",
    "\n",
    "for fruit in fruits:\n",
    "    print(fruit)\n",
    "\n",
    "for i in range(0, 5):\n",
    "  print(i)\n"
   ]
  },
  {
   "cell_type": "markdown",
   "metadata": {
    "id": "OlEF3DwLcP4L"
   },
   "source": [
    "---"
   ]
  },
  {
   "cell_type": "markdown",
   "metadata": {
    "editable": true,
    "id": "vPBF_tdlcEHg",
    "slideshow": {
     "slide_type": "slide"
    },
    "tags": []
   },
   "source": [
    "## Object-Oriented Programming (OOPS)\n",
    "\n",
    "1. **Classes and Objects:**\n",
    "   - *Explanation:* Classes are blueprints for creating objects. Objects are instances of classes and can have attributes (variables) and methods (functions)."
   ]
  },
  {
   "cell_type": "code",
   "execution_count": 5,
   "metadata": {
    "colab": {
     "base_uri": "https://localhost:8080/"
    },
    "editable": true,
    "id": "Urt_Q0QOcGIj",
    "outputId": "8637700d-5545-4be9-d115-f857e62ff456",
    "slideshow": {
     "slide_type": "subslide"
    },
    "tags": []
   },
   "outputs": [
    {
     "name": "stdout",
     "output_type": "stream",
     "text": [
      "Buddy says Woof!\n"
     ]
    }
   ],
   "source": [
    "# Example of a simple class\n",
    "\n",
    "class Dog:\n",
    "    def __init__(self, name, age):\n",
    "        self.name = name\n",
    "        self.age = age\n",
    "\n",
    "    def bark(self):\n",
    "        print(f\"{self.name} says Woof!\")\n",
    "\n",
    "# Creating an instance of the Dog class\n",
    "my_dog = Dog(\"Buddy\", 3)\n",
    "\n",
    "# Calling the bark method\n",
    "my_dog.bark()\n"
   ]
  },
  {
   "cell_type": "markdown",
   "metadata": {
    "id": "7rjbRrnucN18"
   },
   "source": [
    "---"
   ]
  },
  {
   "cell_type": "markdown",
   "metadata": {
    "editable": true,
    "id": "iR77uPcgcJdv",
    "slideshow": {
     "slide_type": "slide"
    },
    "tags": []
   },
   "source": [
    "## Data Handling Tools in Python\n",
    "\n",
    "1. **Pandas:**\n",
    "   - *Explanation:* Pandas is a powerful library for data manipulation and analysis. It provides data structures like Series and DataFrame, making it easy to handle and analyze structured data.\n",
    "\n",
    "2. **NumPy:**\n",
    "   - *Explanation:* NumPy is a library for numerical operations in Python. It introduces support for large, multi-dimensional arrays and matrices, along with mathematical functions to operate on these arrays."
   ]
  },
  {
   "cell_type": "code",
   "execution_count": 1,
   "metadata": {
    "colab": {
     "base_uri": "https://localhost:8080/"
    },
    "editable": true,
    "id": "kMJ8hzjIcKPf",
    "outputId": "2a9cf147-307c-4e03-ad90-113c45f83c64",
    "slideshow": {
     "slide_type": ""
    },
    "tags": []
   },
   "outputs": [
    {
     "name": "stdout",
     "output_type": "stream",
     "text": [
      "Pandas Series:\n",
      "0    1.0\n",
      "1    3.0\n",
      "2    5.0\n",
      "3    NaN\n",
      "4    6.0\n",
      "5    8.0\n",
      "dtype: float64\n",
      "\n",
      "NumPy Array:\n",
      "[1 2 3 4 5]\n"
     ]
    }
   ],
   "source": [
    "# Example using Pandas and NumPy\n",
    "\n",
    "import pandas as pd\n",
    "import numpy as np\n",
    "\n",
    "# Creating a Pandas Series\n",
    "s = pd.Series([1, 3, 5, np.nan, 6, 8])\n",
    "\n",
    "# Creating a NumPy array\n",
    "arr = np.array([1, 2, 3, 4, 5])\n",
    "\n",
    "# Displaying the Series and Array\n",
    "print(\"Pandas Series:\")\n",
    "print(s)\n",
    "\n",
    "print(\"\\nNumPy Array:\")\n",
    "print(arr)\n"
   ]
  }
 ],
 "metadata": {
  "colab": {
   "authorship_tag": "ABX9TyMmEYxKla7iG3qKPBDtozEk",
   "include_colab_link": true,
   "provenance": []
  },
  "kernelspec": {
   "display_name": "Python 3 (ipykernel)",
   "language": "python",
   "name": "python3"
  },
  "language_info": {
   "codemirror_mode": {
    "name": "ipython",
    "version": 3
   },
   "file_extension": ".py",
   "mimetype": "text/x-python",
   "name": "python",
   "nbconvert_exporter": "python",
   "pygments_lexer": "ipython3",
   "version": "3.11.6"
  }
 },
 "nbformat": 4,
 "nbformat_minor": 4
}
